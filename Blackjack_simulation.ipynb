{
 "cells": [
  {
   "cell_type": "code",
   "execution_count": 1,
   "metadata": {},
   "outputs": [],
   "source": [
    "from random import shuffle, randint\n",
    "import pandas as pd"
   ]
  },
  {
   "cell_type": "code",
   "execution_count": 58,
   "metadata": {},
   "outputs": [],
   "source": [
    "def create_new_shoe(n=6):\n",
    "    shoe = [1,2,3,4,5,6,7,8,9,10,10,10,10]*4*n\n",
    "    shuffle(shoe)\n",
    "    return shoe, randint(60,80)\n",
    "\n",
    "def deal(shoe, hand):\n",
    "    card = shoe.pop()\n",
    "    hand.append(card)\n",
    "\n",
    "def deal_players_hands(shoe, players):\n",
    "    for _ in range(2):\n",
    "        for hand in players:\n",
    "            deal(shoe, hand)\n",
    "\n",
    "def clear_players_hands(players):\n",
    "    for hand in players:\n",
    "        while len(hand) > 0:\n",
    "            hand.pop()\n",
    "            \n",
    "def play_dealer(shoe, dealer_hand):\n",
    "    if 1 in dealer_hand:\n",
    "        dealer_hand.remove(1); dealer_hand.append(11)\n",
    "        \n",
    "    while sum(dealer_hand) < 17:\n",
    "        deal(shoe, dealer_hand)\n",
    "        \n",
    "        if sum(dealer_hand) > 21 and 11 in dealer_hand:\n",
    "            dealer_hand.remove(11); dealer_hand.append(1)\n",
    "\n",
    "def play_player_basic_strategy(shoe, dealer_hand, player_hand):\n",
    "    dealer_visible_card = dealer_hand[0]\n",
    "    \n",
    "    if dealer_visible_card >= 7 or dealer_visible_card == 1:\n",
    "        if 1 in player_hand:\n",
    "            player_hand.remove(1); player_hand.append(11)\n",
    "        while sum(player_hand) < 17:\n",
    "            deal(shoe, player_hand)\n",
    "\n",
    "            if sum(player_hand) > 21 and 11 in player_hand:\n",
    "                player_hand.remove(11); player_hand.append(1)\n",
    "    else:\n",
    "        'do nothing'\n",
    "        \n",
    "def play_player_basic_strategy_no_hit_ace(shoe, dealer_hand, player_hand):\n",
    "    dealer_visible_card = dealer_hand[0]\n",
    "    \n",
    "    if dealer_visible_card >= 7:\n",
    "        if 1 in player_hand:\n",
    "            player_hand.remove(1); player_hand.append(11)\n",
    "        while sum(player_hand) < 17:\n",
    "            deal(shoe, player_hand)\n",
    "\n",
    "            if sum(player_hand) > 21 and 11 in player_hand:\n",
    "                player_hand.remove(11); player_hand.append(1)\n",
    "    else:\n",
    "        'do nothing'\n",
    "        \n",
    "def record_starting_hands(r, dealer_hand, player_hand):\n",
    "    r['player_start_sum'].append(sum(player_hand))\n",
    "    r['player_start_hand'].append(tuple(sorted(player_hand)))\n",
    "    r['dealer_start_sum'].append(sum(dealer_hand))\n",
    "    r['dealer_visible_card'].append(dealer_hand[0])\n",
    "    r['dealer_start_hand'].append(tuple(sorted(dealer_hand)))\n",
    "\n",
    "def record_ending_hands(r, dealer_hand, player_hand):\n",
    "    if 11 in dealer_hand: dealer_hand.remove(11); dealer_hand.append(1)\n",
    "    if 11 in player_hand: player_hand.remove(11); player_hand.append(1)\n",
    "    r['dealer_end_hand'].append(tuple(sorted(dealer_hand)))\n",
    "    r['dealer_end_sum'].append(sum(dealer_hand))\n",
    "    if sum(dealer_hand) > 21: r['dealer_busted'].append(True)\n",
    "    else: r['dealer_busted'].append(False)\n",
    "    r['player_end_hand'].append(tuple(sorted(player_hand)))\n",
    "    r['player_end_sum'].append(sum(player_hand))\n",
    "    if sum(player_hand) > 21: r['player_busted'].append(True)\n",
    "    else: r['player_busted'].append(False)\n",
    "    \n",
    "def score_game(r, dealer_hand, player_hand):\n",
    "    player_sum, dealer_sum = sum(player_hand), sum(dealer_hand)\n",
    "    if player_sum > 21:\n",
    "        r['winner'].append('Dealer'); r['winner_number'].append(-1)\n",
    "    elif player_sum == 21:\n",
    "        r['winner'].append('Player'); r['winner_number'].append(1.5)\n",
    "    elif dealer_sum > 21:\n",
    "        r['winner'].append('Player'); r['winner_number'].append(1)\n",
    "    elif dealer_sum > player_sum:\n",
    "        r['winner'].append('Dealer'); r['winner_number'].append(-1)\n",
    "    elif dealer_sum < player_sum:\n",
    "        r['winner'].append('Player'); r['winner_number'].append(1)\n",
    "    else:\n",
    "        r['winner'].append('Push'); r['winner_number'].append(0)\n",
    "\n",
    "def new_record():\n",
    "    r = {'dealer_start_hand': [], 'dealer_start_sum': [], \n",
    "         'dealer_end_hand': [], 'dealer_end_sum': [], \n",
    "         'dealer_busted': [], 'dealer_visible_card': [],\n",
    "         'player_start_hand': [], 'player_start_sum': [], \n",
    "         'player_end_hand': [], 'player_end_sum': [], \n",
    "         'player_busted': [], 'winner': [], 'winner_number': []}\n",
    "    return r\n",
    "\n",
    "def game_simulation(player_strategy, number_of_rounds=1000000, number_of_decks=8):\n",
    "    # initialize game/records variables\n",
    "    r = new_record()\n",
    "    records = pd.DataFrame(r)\n",
    "    dealer_hand, player_hand = [], []\n",
    "    \n",
    "    # create new shoe\n",
    "    shoe, new_shoe_trigger = create_new_shoe(number_of_decks)\n",
    "    round_count = 0\n",
    "    r = new_record()\n",
    "\n",
    "    # play round\n",
    "    while round_count < number_of_rounds:\n",
    "        # deal hands to player and dealer\n",
    "        deal_players_hands(shoe, [dealer_hand, player_hand])\n",
    "\n",
    "        # record starting hands for player and dealer\n",
    "        record_starting_hands(r, dealer_hand, player_hand)\n",
    "\n",
    "        # play player_strategy if dealer doesn't have blackjack\n",
    "        if sum(dealer_hand) != 21:\n",
    "            player_strategy(shoe, dealer_hand, player_hand)\n",
    "\n",
    "        # only play dealer if player has not busted\n",
    "        if sum(player_hand) <= 21: play_dealer(shoe, dealer_hand)\n",
    "\n",
    "        # score game\n",
    "        score_game(r, dealer_hand, player_hand)\n",
    "\n",
    "        # record ending hands\n",
    "        record_ending_hands(r, dealer_hand, player_hand)\n",
    "\n",
    "        # if end shoe is near, shuffle and make new shoe\n",
    "        if len(shoe) < new_shoe_trigger:\n",
    "            shoe, new_shoe_trigger = create_new_shoe(8)\n",
    "\n",
    "        # clear player hands and record\n",
    "        clear_players_hands([dealer_hand, player_hand])\n",
    "        round_count += 1\n",
    "\n",
    "    # store and return records\n",
    "    new_records = pd.DataFrame(r)\n",
    "    return new_records\n",
    "\n",
    "def calc_returns_percent(records):\n",
    "    return round(records['winner_number'].sum()/records['winner_number'].count()*100,2)"
   ]
  },
  {
   "cell_type": "markdown",
   "metadata": {},
   "source": [
    "## Game Simulation Analysis:\n",
    "\n",
    "### Comparing hitting when dealer has Ace showing to not:"
   ]
  },
  {
   "cell_type": "code",
   "execution_count": 59,
   "metadata": {},
   "outputs": [],
   "source": [
    "records = game_simulation(play_player_basic_strategy)\n",
    "records['cumulative_payout'] = records['winner_number'].cumsum()\n",
    "records_no_hit_ace = game_simulation(play_player_basic_strategy_no_hit_ace)"
   ]
  },
  {
   "cell_type": "code",
   "execution_count": 60,
   "metadata": {},
   "outputs": [
    {
     "name": "stdout",
     "output_type": "stream",
     "text": [
      "Basic Strategy Returns Percent: -6.47%\n",
      "No Hit Dealer Ace Returns Percent: -9.38%\n"
     ]
    }
   ],
   "source": [
    "print('Basic Strategy Returns Percent:', str(calc_returns_percent(records))+'%')\n",
    "print('No Hit Dealer Ace Returns Percent:', str(calc_returns_percent(records_no_hit_ace))+'%')"
   ]
  },
  {
   "cell_type": "markdown",
   "metadata": {},
   "source": [
    "One situation where I often forget what the best strategy is is when the dealer has an ace showing and checks and sees that it is not blackjack.  In this situation, the dealer has equal likelihood of having an ace through a 9 hidden, and looking below we can see that this comes out to an average hidden card value of 5.  Does this mean we should play as if the dealer has a 6 showing when we see an Ace and we know it's not blackjack?  Well, according to the simulation above not hitting until 17 or higher when the dealer shows an Ace and doesn't have Blackjack gives a 3% less return overall.  So no, we should treat the dealer having an Ace showing as if the dealer were showing a 7 or higher. "
   ]
  },
  {
   "cell_type": "code",
   "execution_count": 45,
   "metadata": {},
   "outputs": [
    {
     "name": "stdout",
     "output_type": "stream",
     "text": [
      "When the dealer is showing an Ace, but does not have blackjack:\n",
      "Dealer Mean Hidden Card: 5.010532016208848\n",
      "Dealer Median Hidden Card: 5.0\n"
     ]
    }
   ],
   "source": [
    "dealer_ace_not_21 = records.query('dealer_visible_card == 1 & dealer_start_sum != 11')\n",
    "print('When the dealer is showing an Ace, but does not have blackjack:')\n",
    "print('Dealer Mean Hidden Card:', dealer_ace_not_21['dealer_start_sum'].mean() - 1)\n",
    "print('Dealer Median Hidden Card:', dealer_ace_not_21['dealer_start_sum'].median() - 1)"
   ]
  },
  {
   "cell_type": "code",
   "execution_count": 49,
   "metadata": {},
   "outputs": [
    {
     "name": "stdout",
     "output_type": "stream",
     "text": [
      "Percentage of time dealer does not have Blackjack with Ace showing:\n",
      "69.21%\n"
     ]
    }
   ],
   "source": [
    "dealer_ace = records.query('dealer_visible_card == 1')\n",
    "print('Percentage of time dealer does not have Blackjack with Ace showing:')\n",
    "print(str(round(dealer_ace_not_21.shape[0]/dealer_ace.shape[0]*100,2))+'%')"
   ]
  },
  {
   "cell_type": "markdown",
   "metadata": {},
   "source": [
    "## Basic Strategy Cumulative Payout Analysis:"
   ]
  },
  {
   "cell_type": "code",
   "execution_count": 70,
   "metadata": {},
   "outputs": [
    {
     "data": {
      "text/plain": [
       "<AxesSubplot:title={'center':'Basic Strategy Cumulative Payout'}>"
      ]
     },
     "execution_count": 70,
     "metadata": {},
     "output_type": "execute_result"
    },
    {
     "data": {
      "image/png": "[encoded data removed]",
      "text/plain": [
       "<Figure size 432x288 with 1 Axes>"
      ]
     },
     "metadata": {
      "needs_background": "light"
     },
     "output_type": "display_data"
    }
   ],
   "source": [
    "records[['cumulative_payout']].plot(title='Basic Strategy Cumulative Payout')"
   ]
  },
  {
   "cell_type": "code",
   "execution_count": 73,
   "metadata": {},
   "outputs": [],
   "source": [
    "records_1000 = game_simulation(play_player_basic_strategy, 1000)\n",
    "records_1000['cumulative_payout'] = records['winner_number'].cumsum()"
   ]
  },
  {
   "cell_type": "code",
   "execution_count": 72,
   "metadata": {},
   "outputs": [
    {
     "data": {
      "text/plain": [
       "<AxesSubplot:title={'center':'Basic Strategy Cumulative Payout'}>"
      ]
     },
     "execution_count": 72,
     "metadata": {},
     "output_type": "execute_result"
    },
    {
     "data": {
      "image/png": "[encoded data removed]",
      "text/plain": [
       "<Figure size 432x288 with 1 Axes>"
      ]
     },
     "metadata": {
      "needs_background": "light"
     },
     "output_type": "display_data"
    }
   ],
   "source": [
    "records_1000[['cumulative_payout']].plot(title='Basic Strategy Cumulative Payout')"
   ]
  },
  {
   "cell_type": "markdown",
   "metadata": {},
   "source": [
    "With no changing betting amounts, basic strategy has almost a linear descent at a rate of 6% decrease.  I would like to see how I can make this graph positive through changing betting strategies and gaming strategies."
   ]
  },
  {
   "cell_type": "code",
   "execution_count": null,
   "metadata": {},
   "outputs": [],
   "source": []
  }
 ],
 "metadata": {
  "kernelspec": {
   "display_name": "Python 3",
   "language": "python",
   "name": "python3"
  },
  "language_info": {
   "codemirror_mode": {
    "name": "ipython",
    "version": 3
   },
   "file_extension": ".py",
   "mimetype": "text/x-python",
   "name": "python",
   "nbconvert_exporter": "python",
   "pygments_lexer": "ipython3",
   "version": "3.8.8"
  }
 },
 "nbformat": 4,
 "nbformat_minor": 4
}
