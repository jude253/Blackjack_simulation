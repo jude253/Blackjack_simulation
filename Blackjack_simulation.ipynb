{
 "cells": [
  {
   "cell_type": "code",
   "execution_count": 1,
   "metadata": {},
   "outputs": [],
   "source": [
    "from random import shuffle, randint\n",
    "import pandas as pd"
   ]
  },
  {
   "cell_type": "code",
   "execution_count": 2,
   "metadata": {},
   "outputs": [],
   "source": [
    "def create_new_shoe(n=6):\n",
    "    shoe = [1,2,3,4,5,6,7,8,9,10,10,10,10]*4*n\n",
    "    shuffle(shoe)\n",
    "    return shoe, randint(60,80)\n",
    "\n",
    "def deal(shoe, hand):\n",
    "    card = shoe.pop()\n",
    "    hand.append(card)\n",
    "\n",
    "def deal_players_hands(shoe, players):\n",
    "    for _ in range(2):\n",
    "        for hand in players:\n",
    "            deal(shoe, hand)\n",
    "\n",
    "def clear_players_hands(players):\n",
    "    for hand in players:\n",
    "        while len(hand) > 0:\n",
    "            hand.pop()\n",
    "            \n",
    "def play_dealer(shoe, dealer_hand):\n",
    "    if 1 in dealer_hand:\n",
    "        dealer_hand.remove(1); dealer_hand.append(11)\n",
    "        \n",
    "    while sum(dealer_hand) < 17:\n",
    "        deal(shoe, dealer_hand)\n",
    "        \n",
    "        if sum(dealer_hand) > 21 and 11 in dealer_hand:\n",
    "            dealer_hand.remove(11); dealer_hand.append(1)\n",
    "\n",
    "def play_player_basic_strategy(shoe, dealer_hand, player_hand):\n",
    "    dealer_visible_card = dealer_hand[0]\n",
    "    \n",
    "    if dealer_visible_card >= 7 or dealer_visible_card == 1:\n",
    "        if 1 in player_hand:\n",
    "            player_hand.remove(1); player_hand.append(11)\n",
    "        while sum(player_hand) < 17:\n",
    "            deal(shoe, player_hand)\n",
    "\n",
    "            if sum(player_hand) > 21 and 11 in player_hand:\n",
    "                player_hand.remove(11); player_hand.append(1)\n",
    "    else:\n",
    "        'do nothing'\n",
    "        \n",
    "def record_starting_hands(r, dealer_hand, player_hand):\n",
    "    r['player_start_sum'].append(sum(player_hand))\n",
    "    r['player_start_hand'].append(tuple(sorted(player_hand)))\n",
    "    r['dealer_start_sum'].append(sum(dealer_hand))\n",
    "    r['dealer_visible_card'].append(dealer_hand[0])\n",
    "    r['dealer_start_hand'].append(tuple(sorted(dealer_hand)))\n",
    "\n",
    "def record_ending_hands(r, dealer_hand, player_hand):\n",
    "    if 11 in dealer_hand: dealer_hand.remove(11); dealer_hand.append(1)\n",
    "    if 11 in player_hand: player_hand.remove(11); player_hand.append(1)\n",
    "    r['dealer_end_hand'].append(tuple(sorted(dealer_hand)))\n",
    "    r['dealer_end_sum'].append(sum(dealer_hand))\n",
    "    if sum(dealer_hand) > 21: r['dealer_busted'].append(True)\n",
    "    else: r['dealer_busted'].append(False)\n",
    "    r['player_end_hand'].append(tuple(sorted(player_hand)))\n",
    "    r['player_end_sum'].append(sum(player_hand))\n",
    "    if sum(player_hand) > 21: r['player_busted'].append(True)\n",
    "    else: r['player_busted'].append(False)\n",
    "    \n",
    "def score_game(r, dealer_hand, player_hand):\n",
    "    player_sum, dealer_sum = sum(player_hand), sum(dealer_hand)\n",
    "    if player_sum > 21:\n",
    "        r['winner'].append('Dealer'); r['winner_number'].append(-1)\n",
    "    elif player_sum == 21:\n",
    "        r['winner'].append('Player'); r['winner_number'].append(1.5)\n",
    "    elif dealer_sum > 21:\n",
    "        r['winner'].append('Player'); r['winner_number'].append(1)\n",
    "    elif dealer_sum > player_sum:\n",
    "        r['winner'].append('Dealer'); r['winner_number'].append(-1)\n",
    "    elif dealer_sum < player_sum:\n",
    "        r['winner'].append('Player'); r['winner_number'].append(1)\n",
    "    else:\n",
    "        r['winner'].append('Push'); r['winner_number'].append(0)\n",
    "\n",
    "def new_record():\n",
    "    r = {'dealer_start_hand': [], 'dealer_start_sum': [], \n",
    "         'dealer_end_hand': [], 'dealer_end_sum': [], \n",
    "         'dealer_busted': [], 'dealer_visible_card': [],\n",
    "         'player_start_hand': [], 'player_start_sum': [], \n",
    "         'player_end_hand': [], 'player_end_sum': [], \n",
    "         'player_busted': [], 'winner': [], 'winner_number': []}\n",
    "    return r"
   ]
  },
  {
   "cell_type": "markdown",
   "metadata": {},
   "source": [
    "## Game Simulation (1,000,000 Hands):"
   ]
  },
  {
   "cell_type": "code",
   "execution_count": 3,
   "metadata": {},
   "outputs": [],
   "source": [
    "# initialize game/records variables\n",
    "r = new_record()\n",
    "records = pd.DataFrame(r)\n",
    "dealer_hand, player_hand, record = [], [], {}"
   ]
  },
  {
   "cell_type": "code",
   "execution_count": 4,
   "metadata": {},
   "outputs": [],
   "source": [
    "# create new shoe\n",
    "shoe, new_shoe_trigger = create_new_shoe(8)\n",
    "number_of_rounds, round_count = 1000000, 0\n",
    "r = new_record()\n",
    "\n",
    "# play round\n",
    "while round_count < number_of_rounds:\n",
    "    # deal hands to player and dealer\n",
    "    deal_players_hands(shoe, [dealer_hand, player_hand])\n",
    "\n",
    "    # record starting hands for player and dealer\n",
    "    record_starting_hands(r, dealer_hand, player_hand)\n",
    "\n",
    "    # play basic strategy for player\n",
    "    play_player_basic_strategy(shoe, dealer_hand, player_hand)\n",
    "\n",
    "    # only play dealer if player has not busted\n",
    "    if sum(player_hand) <= 21: play_dealer(shoe, dealer_hand)\n",
    "\n",
    "    # score game\n",
    "    score_game(r, dealer_hand, player_hand)\n",
    "\n",
    "    # record ending hands\n",
    "    record_ending_hands(r, dealer_hand, player_hand)\n",
    "\n",
    "    # if end shoe is near, shuffle and make new shoe\n",
    "    if len(shoe) < new_shoe_trigger:\n",
    "        shoe, new_shoe_trigger = create_new_shoe(8)\n",
    "\n",
    "    # clear player hands and record\n",
    "    clear_players_hands([dealer_hand, player_hand])\n",
    "    round_count += 1\n",
    "    \n",
    "# store records\n",
    "new_records = pd.DataFrame(r)\n",
    "records = records.append(new_records, ignore_index=True)"
   ]
  },
  {
   "cell_type": "code",
   "execution_count": 5,
   "metadata": {},
   "outputs": [
    {
     "name": "stdout",
     "output_type": "stream",
     "text": [
      "Returns Percent: -6.61%\n"
     ]
    }
   ],
   "source": [
    "print('Returns Percent:', str(round(records['winner_number'].sum()/records['winner_number'].count()*100,2))+'%')"
   ]
  },
  {
   "cell_type": "code",
   "execution_count": null,
   "metadata": {},
   "outputs": [],
   "source": []
  }
 ],
 "metadata": {
  "kernelspec": {
   "display_name": "Python 3",
   "language": "python",
   "name": "python3"
  },
  "language_info": {
   "codemirror_mode": {
    "name": "ipython",
    "version": 3
   },
   "file_extension": ".py",
   "mimetype": "text/x-python",
   "name": "python",
   "nbconvert_exporter": "python",
   "pygments_lexer": "ipython3",
   "version": "3.8.8"
  }
 },
 "nbformat": 4,
 "nbformat_minor": 4
}
